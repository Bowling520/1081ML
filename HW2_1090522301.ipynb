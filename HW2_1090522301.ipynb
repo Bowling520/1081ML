{
 "cells": [
  {
   "cell_type": "markdown",
   "metadata": {},
   "source": [
    "# Homework2"
   ]
  },
  {
   "cell_type": "markdown",
   "metadata": {},
   "source": [
    "5.將 convert.py 程式改為利用 for 迴圈計算 5 次度數轉換。"
   ]
  },
  {
   "cell_type": "code",
   "execution_count": 1,
   "metadata": {},
   "outputs": [
    {
     "name": "stdout",
     "output_type": "stream",
     "text": [
      "Which form do you want to convert?\n",
      "If you want C to F ,please input 1.\n",
      "If you want F to C ,please input 2.\n",
      "Input number is 2\n",
      "What is the Fahrenheits temperature? 3\n",
      "The temperature is -16.11111111111111 degree Celsius.\n",
      "What is the Fahrenheits temperature? 3\n",
      "The temperature is -16.11111111111111 degree Celsius.\n",
      "What is the Fahrenheits temperature? 3\n",
      "The temperature is -16.11111111111111 degree Celsius.\n",
      "What is the Fahrenheits temperature? 3\n",
      "The temperature is -16.11111111111111 degree Celsius.\n",
      "What is the Fahrenheits temperature? 3\n",
      "The temperature is -16.11111111111111 degree Celsius.\n"
     ]
    }
   ],
   "source": [
    "form = int(input(\"Which form do you want to convert?\\nIf you want C to F ,please input 1.\\nIf you want F to C ,please input 2.\\nInput number is \"))\n",
    "if form == 1:\n",
    "    for i in range(0,5,1):\n",
    "        def convert():\n",
    "            celsius=eval(input(\"What is the Celsius temperature? \"))\n",
    "            fahrenheit=9/5*celsius+32\n",
    "            print(\"The temperature is\", fahrenheit,\"degree Fahrenheit.\")\n",
    "        convert()\n",
    "elif form == 2:\n",
    "    for i in range(0,5,1):\n",
    "        def convert():\n",
    "            fahrenheit=eval(input(\"What is the Fahrenheits temperature? \"))\n",
    "            celsius=(fahrenheit-32)/(9/5)\n",
    "            print(\"The temperature is\", celsius,\"degree Celsius.\")\n",
    "        convert()\n",
    "else :\n",
    "    print(\"如果需要其他轉換，則需另外附加功能!\")"
   ]
  },
  {
   "cell_type": "code",
   "execution_count": null,
   "metadata": {},
   "outputs": [],
   "source": []
  }
 ],
 "metadata": {
  "kernelspec": {
   "display_name": "Python 3",
   "language": "python",
   "name": "python3"
  },
  "language_info": {
   "codemirror_mode": {
    "name": "ipython",
    "version": 3
   },
   "file_extension": ".py",
   "mimetype": "text/x-python",
   "name": "python",
   "nbconvert_exporter": "python",
   "pygments_lexer": "ipython3",
   "version": "3.7.1"
  }
 },
 "nbformat": 4,
 "nbformat_minor": 2
}
