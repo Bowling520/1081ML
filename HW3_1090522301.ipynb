{
 "cells": [
  {
   "cell_type": "code",
   "execution_count": 3,
   "metadata": {},
   "outputs": [
    {
     "name": "stdout",
     "output_type": "stream",
     "text": [
      "請輸入體重(公斤):67\n",
      "請輸入身高(公分):168\n",
      "BMI指數為： 23.738662131519277\n",
      "正常範圍\n"
     ]
    }
   ],
   "source": [
    "def bmi():\n",
    "    weight=float(input(\"請輸入體重(公斤):\"))\n",
    "    height=float(input(\"請輸入身高(公分):\"))\n",
    "    BMI=float(float(weight)/(float(height/100)**2))\n",
    "    print(\"BMI指數為：\",BMI)\n",
    "    if BMI<18.5:\n",
    "        print(\"體重過輕\")\n",
    "    elif BMI<24:\n",
    "        print(\"正常範圍\")\n",
    "    elif BMI<27:\n",
    "        print(\"體重過重\")\n",
    "    elif BMI<30:\n",
    "        print(\"輕度肥胖\")\n",
    "    elif BMI<35:\n",
    "        print(\"中度肥胖\")\n",
    "    else:\n",
    "        print(\"重度肥胖\")\n",
    "bmi()"
   ]
  },
  {
   "cell_type": "code",
   "execution_count": 4,
   "metadata": {},
   "outputs": [
    {
     "name": "stdout",
     "output_type": "stream",
     "text": [
      "請輸入西元年份：2019\n",
      "2019 年為平年\n"
     ]
    }
   ],
   "source": [
    "Year=input(\"請輸入西元年份：\")\n",
    "\n",
    "if ((int(Year) % 4 == 0 ) and (int(Year) % 100 != 0)) or (int(Year) % 400 == 0):\n",
    "    print(Year,\"年為閏年\")\n",
    "else:\n",
    "    print(Year,\"年為平年\")"
   ]
  },
  {
   "cell_type": "code",
   "execution_count": 6,
   "metadata": {},
   "outputs": [
    {
     "name": "stdout",
     "output_type": "stream",
     "text": [
      "請輸入月份：2\n",
      "請輸入日期：29\n",
      "請輸入西元年份：2019\n",
      "您輸入的日期為: 2 / 29 / 2019\n",
      "2019 年為平年，平年 2 月只有 28 天\n",
      "你輸入的數字非有效日期\n"
     ]
    }
   ],
   "source": [
    "leapyear_month = [0,31,29,31,30,31,30,31,31,30,31,30,31]\n",
    "averageyear_month = [0,31,28,31,30,31,30,31,31,30,31,30,31]\n",
    "\n",
    "month=input(\"請輸入月份：\")\n",
    "date=input(\"請輸入日期：\")\n",
    "year=input(\"請輸入西元年份：\")\n",
    "\n",
    "print(\"您輸入的日期為:\",month,\"/\",date,\"/\",year)\n",
    "\n",
    "if ((int(year) % 4 == 0 ) and (int(year) % 100 != 0)) or (int(year) % 400 == 0) :\n",
    "    print(year,\"年為閏年，閏年\",month,\"月只有\",leapyear_month[int(month)],\"天\")\n",
    "    if (int(month) < 1) or (int(month) > 12):\n",
    "        print(\"你輸入的數字非有效月份\")\n",
    "    elif (int(date) < 1) or (int(date) > leapyear_month[int(month)]):\n",
    "        print(\"你輸入的數字非有效日期\")\n",
    "    else:\n",
    "        print (\"您輸入的日期\",month,\"/\",date,\"/\",year,\"為有效日期\")\n",
    "\n",
    "else:\n",
    "    print(year,\"年為平年，平年\",month,\"月只有\",averageyear_month[int(month)],\"天\")\n",
    "    if ((int(month) < 1) or (int(month) > 12)):\n",
    "        print(\"你輸入的數字非有效月份\")\n",
    "    elif ((int(date) < 1) or (int(date) > averageyear_month[int(month)])):\n",
    "        print(\"你輸入的數字非有效日期\")\n",
    "    else:\n",
    "        print (\"您輸入的日期\",month,\"/\",date,\"/\",year,\"為有效日期\")\n"
   ]
  },
  {
   "cell_type": "code",
   "execution_count": 7,
   "metadata": {
    "scrolled": true
   },
   "outputs": [
    {
     "name": "stdout",
     "output_type": "stream",
     "text": [
      "請輸入一個數字:31\n",
      "31 為質數\n"
     ]
    },
    {
     "data": {
      "text/plain": [
       "True"
      ]
     },
     "execution_count": 7,
     "metadata": {},
     "output_type": "execute_result"
    }
   ],
   "source": [
    "n = int(input(\"請輸入一個數字:\"))\n",
    "\n",
    "import math\n",
    "\n",
    "def pn(n):\n",
    "    if n <= 1:\n",
    "        print(n,\"非質數\")\n",
    "        return False\n",
    "    else:\n",
    "        for i in range(2, int(math.sqrt(n)) + 1,1):\n",
    "            if n % i == 0:\n",
    "                print(n,\"非質數\")\n",
    "                return False\n",
    "        print(n,\"為質數\")\n",
    "        return True\n",
    "pn(n)"
   ]
  },
  {
   "cell_type": "code",
   "execution_count": 9,
   "metadata": {
    "scrolled": true
   },
   "outputs": [
    {
     "name": "stdout",
     "output_type": "stream",
     "text": [
      "請輸入一個數字:53\n",
      "2\n",
      "3\n",
      "5\n",
      "7\n",
      "11\n",
      "13\n",
      "17\n",
      "19\n",
      "23\n",
      "29\n",
      "31\n",
      "37\n",
      "41\n",
      "43\n",
      "47\n",
      "53\n"
     ]
    }
   ],
   "source": [
    "n = int(input(\"請輸入一個數字:\"))\n",
    "\n",
    "import math\n",
    "\n",
    "def pn(n):\n",
    "\n",
    "    for j in range(2,n+1,1):\n",
    "        prime = True\n",
    "        for i in range(2, int(math.sqrt(j)) + 1,1):\n",
    "            if j % i == 0:\n",
    "                prime = False \n",
    "                break\n",
    "        if prime:\n",
    "            print(j)\n",
    "\n",
    "pn(n)"
   ]
  }
 ],
 "metadata": {
  "kernelspec": {
   "display_name": "Python 3",
   "language": "python",
   "name": "python3"
  },
  "language_info": {
   "codemirror_mode": {
    "name": "ipython",
    "version": 3
   },
   "file_extension": ".py",
   "mimetype": "text/x-python",
   "name": "python",
   "nbconvert_exporter": "python",
   "pygments_lexer": "ipython3",
   "version": "3.7.1"
  }
 },
 "nbformat": 4,
 "nbformat_minor": 2
}
